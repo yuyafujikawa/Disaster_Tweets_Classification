{
 "cells": [
  {
   "cell_type": "code",
   "execution_count": 1,
   "id": "f76992da",
   "metadata": {
    "_cell_guid": "b1076dfc-b9ad-4769-8c92-a6c4dae69d19",
    "_uuid": "8f2839f25d086af736a60e9eeb907d3b93b6e0e5",
    "execution": {
     "iopub.execute_input": "2022-12-26T12:31:17.766697Z",
     "iopub.status.busy": "2022-12-26T12:31:17.766272Z",
     "iopub.status.idle": "2022-12-26T12:31:17.781694Z",
     "shell.execute_reply": "2022-12-26T12:31:17.780087Z"
    },
    "papermill": {
     "duration": 0.025774,
     "end_time": "2022-12-26T12:31:17.784133",
     "exception": false,
     "start_time": "2022-12-26T12:31:17.758359",
     "status": "completed"
    },
    "tags": []
   },
   "outputs": [
    {
     "name": "stdout",
     "output_type": "stream",
     "text": [
      "/kaggle/input/nlp-getting-started/sample_submission.csv\n",
      "/kaggle/input/nlp-getting-started/train.csv\n",
      "/kaggle/input/nlp-getting-started/test.csv\n"
     ]
    }
   ],
   "source": [
    "# This Python 3 environment comes with many helpful analytics libraries installed\n",
    "# It is defined by the kaggle/python Docker image: https://github.com/kaggle/docker-python\n",
    "# For example, here's several helpful packages to load\n",
    "\n",
    "import numpy as np # linear algebra\n",
    "import pandas as pd # data processing, CSV file I/O (e.g. pd.read_csv)\n",
    "\n",
    "# Input data files are available in the read-only \"../input/\" directory\n",
    "# For example, running this (by clicking run or pressing Shift+Enter) will list all files under the input directory\n",
    "\n",
    "import os\n",
    "for dirpath, _, filenames in os.walk('/kaggle/input'):\n",
    "#dirnames is not needed, so any insignificant temp var can be represented as _\n",
    "    for filename in filenames:\n",
    "        print(os.path.join(dirpath, filename))\n",
    "\n",
    "# You can write up to 20GB to the current directory (/kaggle/working/) that gets preserved as output when you create a version using \"Save & Run All\" \n",
    "# You can also write temporary files to /kaggle/temp/, but they won't be saved outside of the current session"
   ]
  },
  {
   "cell_type": "code",
   "execution_count": 2,
   "id": "3d3661bd",
   "metadata": {
    "execution": {
     "iopub.execute_input": "2022-12-26T12:31:17.798225Z",
     "iopub.status.busy": "2022-12-26T12:31:17.797373Z",
     "iopub.status.idle": "2022-12-26T12:31:18.974877Z",
     "shell.execute_reply": "2022-12-26T12:31:18.973536Z"
    },
    "papermill": {
     "duration": 1.187587,
     "end_time": "2022-12-26T12:31:18.977472",
     "exception": false,
     "start_time": "2022-12-26T12:31:17.789885",
     "status": "completed"
    },
    "tags": []
   },
   "outputs": [],
   "source": [
    "#help(os.walk)\n",
    "import seaborn as sns\n",
    "import matplotlib.pyplot as plt\n",
    "from sklearn import model_selection, preprocessing, linear_model, feature_extraction"
   ]
  },
  {
   "cell_type": "code",
   "execution_count": 3,
   "id": "ebd47d25",
   "metadata": {
    "execution": {
     "iopub.execute_input": "2022-12-26T12:31:18.990008Z",
     "iopub.status.busy": "2022-12-26T12:31:18.989654Z",
     "iopub.status.idle": "2022-12-26T12:31:19.061595Z",
     "shell.execute_reply": "2022-12-26T12:31:19.060664Z"
    },
    "papermill": {
     "duration": 0.080919,
     "end_time": "2022-12-26T12:31:19.064095",
     "exception": false,
     "start_time": "2022-12-26T12:31:18.983176",
     "status": "completed"
    },
    "tags": []
   },
   "outputs": [],
   "source": [
    "df_train = pd.read_csv('/kaggle/input/nlp-getting-started/train.csv')\n",
    "df_test = pd.read_csv('/kaggle/input/nlp-getting-started/test.csv')"
   ]
  },
  {
   "cell_type": "code",
   "execution_count": 4,
   "id": "3a275e4b",
   "metadata": {
    "execution": {
     "iopub.execute_input": "2022-12-26T12:31:19.077887Z",
     "iopub.status.busy": "2022-12-26T12:31:19.076640Z",
     "iopub.status.idle": "2022-12-26T12:31:19.115278Z",
     "shell.execute_reply": "2022-12-26T12:31:19.114344Z"
    },
    "papermill": {
     "duration": 0.047244,
     "end_time": "2022-12-26T12:31:19.117090",
     "exception": false,
     "start_time": "2022-12-26T12:31:19.069846",
     "status": "completed"
    },
    "tags": []
   },
   "outputs": [
    {
     "data": {
      "text/html": [
       "<div>\n",
       "<style scoped>\n",
       "    .dataframe tbody tr th:only-of-type {\n",
       "        vertical-align: middle;\n",
       "    }\n",
       "\n",
       "    .dataframe tbody tr th {\n",
       "        vertical-align: top;\n",
       "    }\n",
       "\n",
       "    .dataframe thead th {\n",
       "        text-align: right;\n",
       "    }\n",
       "</style>\n",
       "<table border=\"1\" class=\"dataframe\">\n",
       "  <thead>\n",
       "    <tr style=\"text-align: right;\">\n",
       "      <th></th>\n",
       "      <th>count</th>\n",
       "      <th>mean</th>\n",
       "      <th>std</th>\n",
       "      <th>min</th>\n",
       "      <th>25%</th>\n",
       "      <th>50%</th>\n",
       "      <th>75%</th>\n",
       "      <th>max</th>\n",
       "    </tr>\n",
       "  </thead>\n",
       "  <tbody>\n",
       "    <tr>\n",
       "      <th>id</th>\n",
       "      <td>7613.0</td>\n",
       "      <td>5441.934848</td>\n",
       "      <td>3137.11609</td>\n",
       "      <td>1.0</td>\n",
       "      <td>2734.0</td>\n",
       "      <td>5408.0</td>\n",
       "      <td>8146.0</td>\n",
       "      <td>10873.0</td>\n",
       "    </tr>\n",
       "    <tr>\n",
       "      <th>target</th>\n",
       "      <td>7613.0</td>\n",
       "      <td>0.429660</td>\n",
       "      <td>0.49506</td>\n",
       "      <td>0.0</td>\n",
       "      <td>0.0</td>\n",
       "      <td>0.0</td>\n",
       "      <td>1.0</td>\n",
       "      <td>1.0</td>\n",
       "    </tr>\n",
       "  </tbody>\n",
       "</table>\n",
       "</div>"
      ],
      "text/plain": [
       "         count         mean         std  min     25%     50%     75%      max\n",
       "id      7613.0  5441.934848  3137.11609  1.0  2734.0  5408.0  8146.0  10873.0\n",
       "target  7613.0     0.429660     0.49506  0.0     0.0     0.0     1.0      1.0"
      ]
     },
     "execution_count": 4,
     "metadata": {},
     "output_type": "execute_result"
    }
   ],
   "source": [
    "df_train.describe().transpose()"
   ]
  },
  {
   "cell_type": "code",
   "execution_count": 5,
   "id": "ad5c8a22",
   "metadata": {
    "execution": {
     "iopub.execute_input": "2022-12-26T12:31:19.130153Z",
     "iopub.status.busy": "2022-12-26T12:31:19.129735Z",
     "iopub.status.idle": "2022-12-26T12:31:19.147276Z",
     "shell.execute_reply": "2022-12-26T12:31:19.146292Z"
    },
    "papermill": {
     "duration": 0.027602,
     "end_time": "2022-12-26T12:31:19.150296",
     "exception": false,
     "start_time": "2022-12-26T12:31:19.122694",
     "status": "completed"
    },
    "tags": []
   },
   "outputs": [
    {
     "name": "stdout",
     "output_type": "stream",
     "text": [
      "<class 'pandas.core.frame.DataFrame'>\n",
      "RangeIndex: 7613 entries, 0 to 7612\n",
      "Data columns (total 5 columns):\n",
      " #   Column    Non-Null Count  Dtype \n",
      "---  ------    --------------  ----- \n",
      " 0   id        7613 non-null   int64 \n",
      " 1   keyword   7552 non-null   object\n",
      " 2   location  5080 non-null   object\n",
      " 3   text      7613 non-null   object\n",
      " 4   target    7613 non-null   int64 \n",
      "dtypes: int64(2), object(3)\n",
      "memory usage: 297.5+ KB\n"
     ]
    }
   ],
   "source": [
    "df_train.info()"
   ]
  },
  {
   "cell_type": "code",
   "execution_count": 6,
   "id": "d2d23c47",
   "metadata": {
    "execution": {
     "iopub.execute_input": "2022-12-26T12:31:19.164587Z",
     "iopub.status.busy": "2022-12-26T12:31:19.163664Z",
     "iopub.status.idle": "2022-12-26T12:31:19.171275Z",
     "shell.execute_reply": "2022-12-26T12:31:19.169931Z"
    },
    "papermill": {
     "duration": 0.017103,
     "end_time": "2022-12-26T12:31:19.173821",
     "exception": false,
     "start_time": "2022-12-26T12:31:19.156718",
     "status": "completed"
    },
    "tags": []
   },
   "outputs": [
    {
     "data": {
      "text/plain": [
       "array(['Our Deeds are the Reason of this #earthquake May ALLAH Forgive us all',\n",
       "       'Forest fire near La Ronge Sask. Canada',\n",
       "       \"All residents asked to 'shelter in place' are being notified by officers. No other evacuation or shelter in place orders are expected\"],\n",
       "      dtype=object)"
      ]
     },
     "execution_count": 6,
     "metadata": {},
     "output_type": "execute_result"
    }
   ],
   "source": [
    "df_train.iloc[:3]['text'].values"
   ]
  },
  {
   "cell_type": "code",
   "execution_count": 7,
   "id": "57bd4173",
   "metadata": {
    "execution": {
     "iopub.execute_input": "2022-12-26T12:31:19.187617Z",
     "iopub.status.busy": "2022-12-26T12:31:19.186547Z",
     "iopub.status.idle": "2022-12-26T12:31:19.202619Z",
     "shell.execute_reply": "2022-12-26T12:31:19.201479Z"
    },
    "papermill": {
     "duration": 0.024676,
     "end_time": "2022-12-26T12:31:19.204472",
     "exception": false,
     "start_time": "2022-12-26T12:31:19.179796",
     "status": "completed"
    },
    "tags": []
   },
   "outputs": [
    {
     "data": {
      "text/html": [
       "<div>\n",
       "<style scoped>\n",
       "    .dataframe tbody tr th:only-of-type {\n",
       "        vertical-align: middle;\n",
       "    }\n",
       "\n",
       "    .dataframe tbody tr th {\n",
       "        vertical-align: top;\n",
       "    }\n",
       "\n",
       "    .dataframe thead th {\n",
       "        text-align: right;\n",
       "    }\n",
       "</style>\n",
       "<table border=\"1\" class=\"dataframe\">\n",
       "  <thead>\n",
       "    <tr style=\"text-align: right;\">\n",
       "      <th></th>\n",
       "      <th>id</th>\n",
       "      <th>keyword</th>\n",
       "      <th>location</th>\n",
       "      <th>text</th>\n",
       "      <th>target</th>\n",
       "    </tr>\n",
       "  </thead>\n",
       "  <tbody>\n",
       "    <tr>\n",
       "      <th>31</th>\n",
       "      <td>48</td>\n",
       "      <td>ablaze</td>\n",
       "      <td>Birmingham</td>\n",
       "      <td>@bbcmtd Wholesale Markets ablaze http://t.co/l...</td>\n",
       "      <td>1</td>\n",
       "    </tr>\n",
       "    <tr>\n",
       "      <th>32</th>\n",
       "      <td>49</td>\n",
       "      <td>ablaze</td>\n",
       "      <td>Est. September 2012 - Bristol</td>\n",
       "      <td>We always try to bring the heavy. #metal #RT h...</td>\n",
       "      <td>0</td>\n",
       "    </tr>\n",
       "    <tr>\n",
       "      <th>33</th>\n",
       "      <td>50</td>\n",
       "      <td>ablaze</td>\n",
       "      <td>AFRICA</td>\n",
       "      <td>#AFRICANBAZE: Breaking news:Nigeria flag set a...</td>\n",
       "      <td>1</td>\n",
       "    </tr>\n",
       "    <tr>\n",
       "      <th>34</th>\n",
       "      <td>52</td>\n",
       "      <td>ablaze</td>\n",
       "      <td>Philadelphia, PA</td>\n",
       "      <td>Crying out for more! Set me ablaze</td>\n",
       "      <td>0</td>\n",
       "    </tr>\n",
       "    <tr>\n",
       "      <th>35</th>\n",
       "      <td>53</td>\n",
       "      <td>ablaze</td>\n",
       "      <td>London, UK</td>\n",
       "      <td>On plus side LOOK AT THE SKY LAST NIGHT IT WAS...</td>\n",
       "      <td>0</td>\n",
       "    </tr>\n",
       "    <tr>\n",
       "      <th>...</th>\n",
       "      <td>...</td>\n",
       "      <td>...</td>\n",
       "      <td>...</td>\n",
       "      <td>...</td>\n",
       "      <td>...</td>\n",
       "    </tr>\n",
       "    <tr>\n",
       "      <th>7575</th>\n",
       "      <td>10826</td>\n",
       "      <td>wrecked</td>\n",
       "      <td>TN</td>\n",
       "      <td>On the bright side I wrecked http://t.co/uEa0t...</td>\n",
       "      <td>0</td>\n",
       "    </tr>\n",
       "    <tr>\n",
       "      <th>7577</th>\n",
       "      <td>10829</td>\n",
       "      <td>wrecked</td>\n",
       "      <td>#NewcastleuponTyne #UK</td>\n",
       "      <td>@widda16 ... He's gone. You can relax. I thoug...</td>\n",
       "      <td>0</td>\n",
       "    </tr>\n",
       "    <tr>\n",
       "      <th>7579</th>\n",
       "      <td>10831</td>\n",
       "      <td>wrecked</td>\n",
       "      <td>Vancouver, Canada</td>\n",
       "      <td>Three days off from work and they've pretty mu...</td>\n",
       "      <td>0</td>\n",
       "    </tr>\n",
       "    <tr>\n",
       "      <th>7580</th>\n",
       "      <td>10832</td>\n",
       "      <td>wrecked</td>\n",
       "      <td>London</td>\n",
       "      <td>#FX #forex #trading Cramer: Iger's 3 words tha...</td>\n",
       "      <td>0</td>\n",
       "    </tr>\n",
       "    <tr>\n",
       "      <th>7581</th>\n",
       "      <td>10833</td>\n",
       "      <td>wrecked</td>\n",
       "      <td>Lincoln</td>\n",
       "      <td>@engineshed Great atmosphere at the British Li...</td>\n",
       "      <td>0</td>\n",
       "    </tr>\n",
       "  </tbody>\n",
       "</table>\n",
       "<p>5080 rows × 5 columns</p>\n",
       "</div>"
      ],
      "text/plain": [
       "         id  keyword                       location  \\\n",
       "31       48   ablaze                     Birmingham   \n",
       "32       49   ablaze  Est. September 2012 - Bristol   \n",
       "33       50   ablaze                         AFRICA   \n",
       "34       52   ablaze               Philadelphia, PA   \n",
       "35       53   ablaze                     London, UK   \n",
       "...     ...      ...                            ...   \n",
       "7575  10826  wrecked                             TN   \n",
       "7577  10829  wrecked         #NewcastleuponTyne #UK   \n",
       "7579  10831  wrecked              Vancouver, Canada   \n",
       "7580  10832  wrecked                        London    \n",
       "7581  10833  wrecked                        Lincoln   \n",
       "\n",
       "                                                   text  target  \n",
       "31    @bbcmtd Wholesale Markets ablaze http://t.co/l...       1  \n",
       "32    We always try to bring the heavy. #metal #RT h...       0  \n",
       "33    #AFRICANBAZE: Breaking news:Nigeria flag set a...       1  \n",
       "34                   Crying out for more! Set me ablaze       0  \n",
       "35    On plus side LOOK AT THE SKY LAST NIGHT IT WAS...       0  \n",
       "...                                                 ...     ...  \n",
       "7575  On the bright side I wrecked http://t.co/uEa0t...       0  \n",
       "7577  @widda16 ... He's gone. You can relax. I thoug...       0  \n",
       "7579  Three days off from work and they've pretty mu...       0  \n",
       "7580  #FX #forex #trading Cramer: Iger's 3 words tha...       0  \n",
       "7581  @engineshed Great atmosphere at the British Li...       0  \n",
       "\n",
       "[5080 rows x 5 columns]"
      ]
     },
     "execution_count": 7,
     "metadata": {},
     "output_type": "execute_result"
    }
   ],
   "source": [
    "df_train[df_train['target']==1]['text'].iloc[:2]\n",
    "df_train[df_train['location'].notnull()]"
   ]
  },
  {
   "cell_type": "code",
   "execution_count": 8,
   "id": "93f4f79a",
   "metadata": {
    "execution": {
     "iopub.execute_input": "2022-12-26T12:31:19.219850Z",
     "iopub.status.busy": "2022-12-26T12:31:19.218838Z",
     "iopub.status.idle": "2022-12-26T12:31:19.225174Z",
     "shell.execute_reply": "2022-12-26T12:31:19.224097Z"
    },
    "papermill": {
     "duration": 0.017084,
     "end_time": "2022-12-26T12:31:19.227621",
     "exception": false,
     "start_time": "2022-12-26T12:31:19.210537",
     "status": "completed"
    },
    "tags": []
   },
   "outputs": [
    {
     "name": "stdout",
     "output_type": "stream",
     "text": [
      "Our Deeds are\n"
     ]
    }
   ],
   "source": [
    "print(' '.join(df_train['text'][0].split(' ')[:3]))"
   ]
  },
  {
   "cell_type": "code",
   "execution_count": 9,
   "id": "7dd4785b",
   "metadata": {
    "execution": {
     "iopub.execute_input": "2022-12-26T12:31:19.241919Z",
     "iopub.status.busy": "2022-12-26T12:31:19.241529Z",
     "iopub.status.idle": "2022-12-26T12:31:19.251639Z",
     "shell.execute_reply": "2022-12-26T12:31:19.250608Z"
    },
    "papermill": {
     "duration": 0.019256,
     "end_time": "2022-12-26T12:31:19.253427",
     "exception": false,
     "start_time": "2022-12-26T12:31:19.234171",
     "status": "completed"
    },
    "tags": []
   },
   "outputs": [
    {
     "data": {
      "text/plain": [
       "id             0\n",
       "keyword       61\n",
       "location    2533\n",
       "text           0\n",
       "target         0\n",
       "dtype: int64"
      ]
     },
     "execution_count": 9,
     "metadata": {},
     "output_type": "execute_result"
    }
   ],
   "source": [
    "df_train.isnull().sum()"
   ]
  },
  {
   "cell_type": "code",
   "execution_count": 10,
   "id": "ec2aff30",
   "metadata": {
    "execution": {
     "iopub.execute_input": "2022-12-26T12:31:19.268466Z",
     "iopub.status.busy": "2022-12-26T12:31:19.268002Z",
     "iopub.status.idle": "2022-12-26T12:31:19.466876Z",
     "shell.execute_reply": "2022-12-26T12:31:19.465826Z"
    },
    "papermill": {
     "duration": 0.209248,
     "end_time": "2022-12-26T12:31:19.469224",
     "exception": false,
     "start_time": "2022-12-26T12:31:19.259976",
     "status": "completed"
    },
    "tags": []
   },
   "outputs": [],
   "source": [
    "# Although Tfidfvectorizer is much simpler, I will use Countvectorizer and TfidfTransformer in lieu \n",
    "# from sklearn.feature_extraction.text import TfidfVectorizer\n",
    "# vectorizer = TfidfVectorizer()\n",
    "\n",
    "from sklearn.feature_extraction.text import CountVectorizer, TfidfTransformer\n",
    "\n",
    "counter = CountVectorizer()\n",
    "tfidfer = TfidfTransformer()\n",
    "\n",
    "#Just so that the counter instance 'learns' the vocab inside df_train\n",
    "X_train_counts = counter.fit_transform(df_train['text'])\n",
    "X_test = counter.transform(df_test['text'])\n",
    "tfidfer.fit(X_train_counts)\n",
    "X_test = tfidfer.transform(X_test)"
   ]
  },
  {
   "cell_type": "code",
   "execution_count": 11,
   "id": "b5ccb665",
   "metadata": {
    "execution": {
     "iopub.execute_input": "2022-12-26T12:31:19.486208Z",
     "iopub.status.busy": "2022-12-26T12:31:19.485834Z",
     "iopub.status.idle": "2022-12-26T12:31:19.490700Z",
     "shell.execute_reply": "2022-12-26T12:31:19.489197Z"
    },
    "papermill": {
     "duration": 0.015735,
     "end_time": "2022-12-26T12:31:19.493318",
     "exception": false,
     "start_time": "2022-12-26T12:31:19.477583",
     "status": "completed"
    },
    "tags": []
   },
   "outputs": [],
   "source": [
    "# #Ensure that the train and test vectors have the same set of tokens.\n",
    "# #Token is a smallest lexical unit - article, word etc. \n",
    "# X_train = vectorizer.fit_transform(df_train['text'])\n",
    "# #To avoid data leakage, we only transform the test_df['text']\n",
    "# X_test = vectorizer.transform(df_test['text'])"
   ]
  },
  {
   "cell_type": "code",
   "execution_count": 12,
   "id": "b9f24f48",
   "metadata": {
    "execution": {
     "iopub.execute_input": "2022-12-26T12:31:19.507482Z",
     "iopub.status.busy": "2022-12-26T12:31:19.507134Z",
     "iopub.status.idle": "2022-12-26T12:31:19.641586Z",
     "shell.execute_reply": "2022-12-26T12:31:19.640511Z"
    },
    "papermill": {
     "duration": 0.144787,
     "end_time": "2022-12-26T12:31:19.644392",
     "exception": false,
     "start_time": "2022-12-26T12:31:19.499605",
     "status": "completed"
    },
    "tags": []
   },
   "outputs": [],
   "source": [
    "from sklearn.model_selection import train_test_split, GridSearchCV\n",
    "from sklearn.naive_bayes import MultinomialNB\n",
    "from sklearn.linear_model import LogisticRegression, RidgeClassifier\n",
    "from sklearn.ensemble import RandomForestClassifier, GradientBoostingClassifier\n",
    "from sklearn.neighbors import KNeighborsClassifier\n",
    "from sklearn.svm import SVC\n",
    "from sklearn.pipeline import Pipeline"
   ]
  },
  {
   "cell_type": "code",
   "execution_count": 13,
   "id": "f8dc7c84",
   "metadata": {
    "execution": {
     "iopub.execute_input": "2022-12-26T12:31:19.658919Z",
     "iopub.status.busy": "2022-12-26T12:31:19.658544Z",
     "iopub.status.idle": "2022-12-26T12:31:19.812369Z",
     "shell.execute_reply": "2022-12-26T12:31:19.811494Z"
    },
    "papermill": {
     "duration": 0.163919,
     "end_time": "2022-12-26T12:31:19.814868",
     "exception": false,
     "start_time": "2022-12-26T12:31:19.650949",
     "status": "completed"
    },
    "tags": []
   },
   "outputs": [],
   "source": [
    "X_train = df_train['text']\n",
    "y_train = df_train['target']\n",
    "pipe_mnnb = Pipeline([('counter', CountVectorizer()),('tfidf',TfidfTransformer()),('clf',MultinomialNB())])\n",
    "pipe_mnnb = pipe_mnnb.fit(X_train, y_train)"
   ]
  },
  {
   "cell_type": "code",
   "execution_count": 14,
   "id": "68d605e8",
   "metadata": {
    "execution": {
     "iopub.execute_input": "2022-12-26T12:31:19.829251Z",
     "iopub.status.busy": "2022-12-26T12:31:19.828831Z",
     "iopub.status.idle": "2022-12-26T12:31:20.551991Z",
     "shell.execute_reply": "2022-12-26T12:31:20.551079Z"
    },
    "papermill": {
     "duration": 0.732639,
     "end_time": "2022-12-26T12:31:20.554000",
     "exception": false,
     "start_time": "2022-12-26T12:31:19.821361",
     "status": "completed"
    },
    "tags": []
   },
   "outputs": [
    {
     "name": "stdout",
     "output_type": "stream",
     "text": [
      "0.6406922913879345\n"
     ]
    }
   ],
   "source": [
    "score = model_selection.cross_val_score(pipe_mnnb, X_train, y_train, scoring='f1', cv=5)\n",
    "print(score.mean())"
   ]
  },
  {
   "cell_type": "code",
   "execution_count": 15,
   "id": "c3462c61",
   "metadata": {
    "execution": {
     "iopub.execute_input": "2022-12-26T12:31:20.568559Z",
     "iopub.status.busy": "2022-12-26T12:31:20.568154Z",
     "iopub.status.idle": "2022-12-26T12:31:20.584318Z",
     "shell.execute_reply": "2022-12-26T12:31:20.581577Z"
    },
    "papermill": {
     "duration": 0.025952,
     "end_time": "2022-12-26T12:31:20.586422",
     "exception": false,
     "start_time": "2022-12-26T12:31:20.560470",
     "status": "completed"
    },
    "tags": []
   },
   "outputs": [
    {
     "data": {
      "text/html": [
       "<div>\n",
       "<style scoped>\n",
       "    .dataframe tbody tr th:only-of-type {\n",
       "        vertical-align: middle;\n",
       "    }\n",
       "\n",
       "    .dataframe tbody tr th {\n",
       "        vertical-align: top;\n",
       "    }\n",
       "\n",
       "    .dataframe thead th {\n",
       "        text-align: right;\n",
       "    }\n",
       "</style>\n",
       "<table border=\"1\" class=\"dataframe\">\n",
       "  <thead>\n",
       "    <tr style=\"text-align: right;\">\n",
       "      <th></th>\n",
       "      <th>id</th>\n",
       "      <th>keyword</th>\n",
       "      <th>location</th>\n",
       "      <th>text</th>\n",
       "    </tr>\n",
       "  </thead>\n",
       "  <tbody>\n",
       "    <tr>\n",
       "      <th>0</th>\n",
       "      <td>0</td>\n",
       "      <td>NaN</td>\n",
       "      <td>NaN</td>\n",
       "      <td>Just happened a terrible car crash</td>\n",
       "    </tr>\n",
       "    <tr>\n",
       "      <th>1</th>\n",
       "      <td>2</td>\n",
       "      <td>NaN</td>\n",
       "      <td>NaN</td>\n",
       "      <td>Heard about #earthquake is different cities, s...</td>\n",
       "    </tr>\n",
       "    <tr>\n",
       "      <th>2</th>\n",
       "      <td>3</td>\n",
       "      <td>NaN</td>\n",
       "      <td>NaN</td>\n",
       "      <td>there is a forest fire at spot pond, geese are...</td>\n",
       "    </tr>\n",
       "    <tr>\n",
       "      <th>3</th>\n",
       "      <td>9</td>\n",
       "      <td>NaN</td>\n",
       "      <td>NaN</td>\n",
       "      <td>Apocalypse lighting. #Spokane #wildfires</td>\n",
       "    </tr>\n",
       "    <tr>\n",
       "      <th>4</th>\n",
       "      <td>11</td>\n",
       "      <td>NaN</td>\n",
       "      <td>NaN</td>\n",
       "      <td>Typhoon Soudelor kills 28 in China and Taiwan</td>\n",
       "    </tr>\n",
       "    <tr>\n",
       "      <th>...</th>\n",
       "      <td>...</td>\n",
       "      <td>...</td>\n",
       "      <td>...</td>\n",
       "      <td>...</td>\n",
       "    </tr>\n",
       "    <tr>\n",
       "      <th>3258</th>\n",
       "      <td>10861</td>\n",
       "      <td>NaN</td>\n",
       "      <td>NaN</td>\n",
       "      <td>EARTHQUAKE SAFETY LOS ANGELES ÛÒ SAFETY FASTE...</td>\n",
       "    </tr>\n",
       "    <tr>\n",
       "      <th>3259</th>\n",
       "      <td>10865</td>\n",
       "      <td>NaN</td>\n",
       "      <td>NaN</td>\n",
       "      <td>Storm in RI worse than last hurricane. My city...</td>\n",
       "    </tr>\n",
       "    <tr>\n",
       "      <th>3260</th>\n",
       "      <td>10868</td>\n",
       "      <td>NaN</td>\n",
       "      <td>NaN</td>\n",
       "      <td>Green Line derailment in Chicago http://t.co/U...</td>\n",
       "    </tr>\n",
       "    <tr>\n",
       "      <th>3261</th>\n",
       "      <td>10874</td>\n",
       "      <td>NaN</td>\n",
       "      <td>NaN</td>\n",
       "      <td>MEG issues Hazardous Weather Outlook (HWO) htt...</td>\n",
       "    </tr>\n",
       "    <tr>\n",
       "      <th>3262</th>\n",
       "      <td>10875</td>\n",
       "      <td>NaN</td>\n",
       "      <td>NaN</td>\n",
       "      <td>#CityofCalgary has activated its Municipal Eme...</td>\n",
       "    </tr>\n",
       "  </tbody>\n",
       "</table>\n",
       "<p>3263 rows × 4 columns</p>\n",
       "</div>"
      ],
      "text/plain": [
       "         id keyword location  \\\n",
       "0         0     NaN      NaN   \n",
       "1         2     NaN      NaN   \n",
       "2         3     NaN      NaN   \n",
       "3         9     NaN      NaN   \n",
       "4        11     NaN      NaN   \n",
       "...     ...     ...      ...   \n",
       "3258  10861     NaN      NaN   \n",
       "3259  10865     NaN      NaN   \n",
       "3260  10868     NaN      NaN   \n",
       "3261  10874     NaN      NaN   \n",
       "3262  10875     NaN      NaN   \n",
       "\n",
       "                                                   text  \n",
       "0                    Just happened a terrible car crash  \n",
       "1     Heard about #earthquake is different cities, s...  \n",
       "2     there is a forest fire at spot pond, geese are...  \n",
       "3              Apocalypse lighting. #Spokane #wildfires  \n",
       "4         Typhoon Soudelor kills 28 in China and Taiwan  \n",
       "...                                                 ...  \n",
       "3258  EARTHQUAKE SAFETY LOS ANGELES ÛÒ SAFETY FASTE...  \n",
       "3259  Storm in RI worse than last hurricane. My city...  \n",
       "3260  Green Line derailment in Chicago http://t.co/U...  \n",
       "3261  MEG issues Hazardous Weather Outlook (HWO) htt...  \n",
       "3262  #CityofCalgary has activated its Municipal Eme...  \n",
       "\n",
       "[3263 rows x 4 columns]"
      ]
     },
     "execution_count": 15,
     "metadata": {},
     "output_type": "execute_result"
    }
   ],
   "source": [
    "df_test"
   ]
  },
  {
   "cell_type": "code",
   "execution_count": 16,
   "id": "7523beeb",
   "metadata": {
    "execution": {
     "iopub.execute_input": "2022-12-26T12:31:20.603009Z",
     "iopub.status.busy": "2022-12-26T12:31:20.602007Z",
     "iopub.status.idle": "2022-12-26T12:31:55.046281Z",
     "shell.execute_reply": "2022-12-26T12:31:55.044955Z"
    },
    "papermill": {
     "duration": 34.459386,
     "end_time": "2022-12-26T12:31:55.053718",
     "exception": false,
     "start_time": "2022-12-26T12:31:20.594332",
     "status": "completed"
    },
    "tags": []
   },
   "outputs": [
    {
     "name": "stdout",
     "output_type": "stream",
     "text": [
      "[0.62969925 0.60759494 0.65463495 0.61694291 0.75176194]\n"
     ]
    }
   ],
   "source": [
    "pipe_svc = Pipeline([('counter', CountVectorizer()),('tfidf', TfidfTransformer()), ('clf', SVC())])\n",
    "pipe_svc = pipe_svc.fit(X_train,y_train)\n",
    "score_svc = model_selection.cross_val_score(pipe_svc, X_train, y_train,scoring='f1',cv=5)\n",
    "print(score_svc)"
   ]
  },
  {
   "cell_type": "code",
   "execution_count": 17,
   "id": "5b259940",
   "metadata": {
    "execution": {
     "iopub.execute_input": "2022-12-26T12:31:55.068420Z",
     "iopub.status.busy": "2022-12-26T12:31:55.067997Z",
     "iopub.status.idle": "2022-12-26T12:32:02.192243Z",
     "shell.execute_reply": "2022-12-26T12:32:02.191255Z"
    },
    "papermill": {
     "duration": 7.134511,
     "end_time": "2022-12-26T12:32:02.194686",
     "exception": false,
     "start_time": "2022-12-26T12:31:55.060175",
     "status": "completed"
    },
    "tags": []
   },
   "outputs": [],
   "source": [
    "#Run once, save the best_params.\n",
    "param_svc = {\n",
    "    'counter__ngram_range':[(1,1),(1,2)],\n",
    "    'tfidf__use_idf':[True, False],\n",
    "    'clf__C':[0.0001,0.001,0.01,0.1,1],\n",
    "    'clf__kernel':['linear','poly','rbf'],\n",
    "    'clf__degree':[1,2,3]\n",
    "}\n",
    "pipe_svc = Pipeline([('counter', CountVectorizer()),('tfidf', TfidfTransformer()), ('clf', SVC())])\n",
    "pipe_svc.fit(X_train,y_train)\n",
    "searcher_svc = GridSearchCV(pipe_svc, param_svc, scoring='f1', n_jobs=-1, refit=False, cv=10)\n",
    "#searcher_svc.fit(X_train, y_train)\n",
    "#print(searcher_svc.best_params_)\n",
    "#score_svc = model_selection.cross_val_score(searcher, X_train, y_train, scoring='f1', cv=10)\n",
    "#print(score_svc)\n",
    "\n",
    "#Best params\n",
    "#{'clf__C': 1, 'clf__degree': 1, 'clf__kernel': 'linear', 'counter__ngram_range': (1, 2), 'tfidf__use_idf': True}\n"
   ]
  },
  {
   "cell_type": "code",
   "execution_count": 18,
   "id": "efd13024",
   "metadata": {
    "execution": {
     "iopub.execute_input": "2022-12-26T12:32:02.209778Z",
     "iopub.status.busy": "2022-12-26T12:32:02.209415Z",
     "iopub.status.idle": "2022-12-26T12:32:02.213979Z",
     "shell.execute_reply": "2022-12-26T12:32:02.213162Z"
    },
    "papermill": {
     "duration": 0.014992,
     "end_time": "2022-12-26T12:32:02.216415",
     "exception": false,
     "start_time": "2022-12-26T12:32:02.201423",
     "status": "completed"
    },
    "tags": []
   },
   "outputs": [],
   "source": [
    "best_param_svc={'clf__C': 1, 'clf__degree': 1, 'clf__kernel': 'linear', 'counter__ngram_range': (1, 2), 'tfidf__use_idf': True}"
   ]
  },
  {
   "cell_type": "code",
   "execution_count": 19,
   "id": "e1c065a8",
   "metadata": {
    "execution": {
     "iopub.execute_input": "2022-12-26T12:32:02.231777Z",
     "iopub.status.busy": "2022-12-26T12:32:02.231398Z",
     "iopub.status.idle": "2022-12-26T12:32:45.289058Z",
     "shell.execute_reply": "2022-12-26T12:32:45.287580Z"
    },
    "papermill": {
     "duration": 43.073446,
     "end_time": "2022-12-26T12:32:45.296915",
     "exception": false,
     "start_time": "2022-12-26T12:32:02.223469",
     "status": "completed"
    },
    "tags": []
   },
   "outputs": [
    {
     "name": "stdout",
     "output_type": "stream",
     "text": [
      "[0.66103128 0.60993976 0.67913239 0.65714286 0.74766355]\n"
     ]
    }
   ],
   "source": [
    "#Use idf is obviously True by default, but just to be explicit\n",
    "pipe_svc = Pipeline([('counter', CountVectorizer(ngram_range=(1,2))),('tfidf', TfidfTransformer(use_idf=True)), ('clf', SVC(C=1, degree=1, kernel='linear'))])\n",
    "pipe_svc = pipe_svc.fit(X_train,y_train)\n",
    "score_svc = model_selection.cross_val_score(pipe_svc, X_train, y_train,scoring='f1',cv=5)\n",
    "print(score_svc)"
   ]
  },
  {
   "cell_type": "code",
   "execution_count": 20,
   "id": "d689d6bc",
   "metadata": {
    "execution": {
     "iopub.execute_input": "2022-12-26T12:32:45.312718Z",
     "iopub.status.busy": "2022-12-26T12:32:45.312313Z",
     "iopub.status.idle": "2022-12-26T12:32:45.325387Z",
     "shell.execute_reply": "2022-12-26T12:32:45.324078Z"
    },
    "papermill": {
     "duration": 0.023568,
     "end_time": "2022-12-26T12:32:45.327936",
     "exception": false,
     "start_time": "2022-12-26T12:32:45.304368",
     "status": "completed"
    },
    "tags": []
   },
   "outputs": [],
   "source": [
    "submission = pd.read_csv('/kaggle/input/nlp-getting-started/sample_submission.csv')"
   ]
  },
  {
   "cell_type": "code",
   "execution_count": 21,
   "id": "d4508a0a",
   "metadata": {
    "execution": {
     "iopub.execute_input": "2022-12-26T12:32:45.343184Z",
     "iopub.status.busy": "2022-12-26T12:32:45.342573Z",
     "iopub.status.idle": "2022-12-26T12:32:48.063991Z",
     "shell.execute_reply": "2022-12-26T12:32:48.063091Z"
    },
    "papermill": {
     "duration": 2.731374,
     "end_time": "2022-12-26T12:32:48.066213",
     "exception": false,
     "start_time": "2022-12-26T12:32:45.334839",
     "status": "completed"
    },
    "tags": []
   },
   "outputs": [],
   "source": [
    "submission['target'] = pipe_svc.predict(df_test['text'])"
   ]
  },
  {
   "cell_type": "code",
   "execution_count": 22,
   "id": "c054daa0",
   "metadata": {
    "execution": {
     "iopub.execute_input": "2022-12-26T12:32:48.080851Z",
     "iopub.status.busy": "2022-12-26T12:32:48.080508Z",
     "iopub.status.idle": "2022-12-26T12:32:48.085807Z",
     "shell.execute_reply": "2022-12-26T12:32:48.084404Z"
    },
    "papermill": {
     "duration": 0.015537,
     "end_time": "2022-12-26T12:32:48.088317",
     "exception": false,
     "start_time": "2022-12-26T12:32:48.072780",
     "status": "completed"
    },
    "tags": []
   },
   "outputs": [],
   "source": [
    "# submission = submission.reset_index(drop=True)"
   ]
  },
  {
   "cell_type": "code",
   "execution_count": 23,
   "id": "ef903891",
   "metadata": {
    "execution": {
     "iopub.execute_input": "2022-12-26T12:32:48.103954Z",
     "iopub.status.busy": "2022-12-26T12:32:48.103604Z",
     "iopub.status.idle": "2022-12-26T12:32:48.115824Z",
     "shell.execute_reply": "2022-12-26T12:32:48.114727Z"
    },
    "papermill": {
     "duration": 0.022676,
     "end_time": "2022-12-26T12:32:48.118265",
     "exception": false,
     "start_time": "2022-12-26T12:32:48.095589",
     "status": "completed"
    },
    "tags": []
   },
   "outputs": [],
   "source": [
    "submission.to_csv('submission.csv', index=False)"
   ]
  },
  {
   "cell_type": "code",
   "execution_count": 24,
   "id": "13a97a99",
   "metadata": {
    "execution": {
     "iopub.execute_input": "2022-12-26T12:32:48.133808Z",
     "iopub.status.busy": "2022-12-26T12:32:48.133202Z",
     "iopub.status.idle": "2022-12-26T12:32:48.142924Z",
     "shell.execute_reply": "2022-12-26T12:32:48.141886Z"
    },
    "papermill": {
     "duration": 0.020712,
     "end_time": "2022-12-26T12:32:48.145614",
     "exception": false,
     "start_time": "2022-12-26T12:32:48.124902",
     "status": "completed"
    },
    "tags": []
   },
   "outputs": [
    {
     "data": {
      "text/html": [
       "<div>\n",
       "<style scoped>\n",
       "    .dataframe tbody tr th:only-of-type {\n",
       "        vertical-align: middle;\n",
       "    }\n",
       "\n",
       "    .dataframe tbody tr th {\n",
       "        vertical-align: top;\n",
       "    }\n",
       "\n",
       "    .dataframe thead th {\n",
       "        text-align: right;\n",
       "    }\n",
       "</style>\n",
       "<table border=\"1\" class=\"dataframe\">\n",
       "  <thead>\n",
       "    <tr style=\"text-align: right;\">\n",
       "      <th></th>\n",
       "      <th>id</th>\n",
       "      <th>target</th>\n",
       "    </tr>\n",
       "  </thead>\n",
       "  <tbody>\n",
       "    <tr>\n",
       "      <th>0</th>\n",
       "      <td>0</td>\n",
       "      <td>1</td>\n",
       "    </tr>\n",
       "    <tr>\n",
       "      <th>1</th>\n",
       "      <td>2</td>\n",
       "      <td>1</td>\n",
       "    </tr>\n",
       "    <tr>\n",
       "      <th>2</th>\n",
       "      <td>3</td>\n",
       "      <td>1</td>\n",
       "    </tr>\n",
       "    <tr>\n",
       "      <th>3</th>\n",
       "      <td>9</td>\n",
       "      <td>0</td>\n",
       "    </tr>\n",
       "    <tr>\n",
       "      <th>4</th>\n",
       "      <td>11</td>\n",
       "      <td>1</td>\n",
       "    </tr>\n",
       "  </tbody>\n",
       "</table>\n",
       "</div>"
      ],
      "text/plain": [
       "   id  target\n",
       "0   0       1\n",
       "1   2       1\n",
       "2   3       1\n",
       "3   9       0\n",
       "4  11       1"
      ]
     },
     "execution_count": 24,
     "metadata": {},
     "output_type": "execute_result"
    }
   ],
   "source": [
    "submission.head()"
   ]
  }
 ],
 "metadata": {
  "kernelspec": {
   "display_name": "Python 3",
   "language": "python",
   "name": "python3"
  },
  "language_info": {
   "codemirror_mode": {
    "name": "ipython",
    "version": 3
   },
   "file_extension": ".py",
   "mimetype": "text/x-python",
   "name": "python",
   "nbconvert_exporter": "python",
   "pygments_lexer": "ipython3",
   "version": "3.7.12"
  },
  "papermill": {
   "default_parameters": {},
   "duration": 98.395929,
   "end_time": "2022-12-26T12:32:48.874562",
   "environment_variables": {},
   "exception": null,
   "input_path": "__notebook__.ipynb",
   "output_path": "__notebook__.ipynb",
   "parameters": {},
   "start_time": "2022-12-26T12:31:10.478633",
   "version": "2.3.4"
  }
 },
 "nbformat": 4,
 "nbformat_minor": 5
}
